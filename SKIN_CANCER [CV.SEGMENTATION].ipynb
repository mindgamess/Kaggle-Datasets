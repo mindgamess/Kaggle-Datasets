{
 "cells": [
  {
   "cell_type": "code",
   "execution_count": 1,
   "metadata": {},
   "outputs": [],
   "source": [
    "import os\n",
    "import pandas as pd\n",
    "import numpy as np\n",
    "import matplotlib.pyplot as plt\n",
    "import torch\n",
    "import torchvision\n",
    "from torchvision import models\n",
    "from torchvision.models.segmentation.deeplabv3 import DeepLabHead\n",
    "from torchvision import transforms as T\n",
    "from PIL import Image"
   ]
  },
  {
   "cell_type": "code",
   "execution_count": 2,
   "metadata": {},
   "outputs": [
    {
     "data": {
      "text/html": [
       "<div>\n",
       "<style scoped>\n",
       "    .dataframe tbody tr th:only-of-type {\n",
       "        vertical-align: middle;\n",
       "    }\n",
       "\n",
       "    .dataframe tbody tr th {\n",
       "        vertical-align: top;\n",
       "    }\n",
       "\n",
       "    .dataframe thead th {\n",
       "        text-align: right;\n",
       "    }\n",
       "</style>\n",
       "<table border=\"1\" class=\"dataframe\">\n",
       "  <thead>\n",
       "    <tr style=\"text-align: right;\">\n",
       "      <th></th>\n",
       "      <th>image</th>\n",
       "      <th>MEL</th>\n",
       "      <th>NV</th>\n",
       "      <th>BCC</th>\n",
       "      <th>AKIEC</th>\n",
       "      <th>BKL</th>\n",
       "      <th>DF</th>\n",
       "      <th>VASC</th>\n",
       "    </tr>\n",
       "  </thead>\n",
       "  <tbody>\n",
       "    <tr>\n",
       "      <th>0</th>\n",
       "      <td>ISIC_0024306</td>\n",
       "      <td>0.0</td>\n",
       "      <td>1.0</td>\n",
       "      <td>0.0</td>\n",
       "      <td>0.0</td>\n",
       "      <td>0.0</td>\n",
       "      <td>0.0</td>\n",
       "      <td>0.0</td>\n",
       "    </tr>\n",
       "    <tr>\n",
       "      <th>1</th>\n",
       "      <td>ISIC_0024307</td>\n",
       "      <td>0.0</td>\n",
       "      <td>1.0</td>\n",
       "      <td>0.0</td>\n",
       "      <td>0.0</td>\n",
       "      <td>0.0</td>\n",
       "      <td>0.0</td>\n",
       "      <td>0.0</td>\n",
       "    </tr>\n",
       "    <tr>\n",
       "      <th>2</th>\n",
       "      <td>ISIC_0024308</td>\n",
       "      <td>0.0</td>\n",
       "      <td>1.0</td>\n",
       "      <td>0.0</td>\n",
       "      <td>0.0</td>\n",
       "      <td>0.0</td>\n",
       "      <td>0.0</td>\n",
       "      <td>0.0</td>\n",
       "    </tr>\n",
       "    <tr>\n",
       "      <th>3</th>\n",
       "      <td>ISIC_0024309</td>\n",
       "      <td>0.0</td>\n",
       "      <td>1.0</td>\n",
       "      <td>0.0</td>\n",
       "      <td>0.0</td>\n",
       "      <td>0.0</td>\n",
       "      <td>0.0</td>\n",
       "      <td>0.0</td>\n",
       "    </tr>\n",
       "    <tr>\n",
       "      <th>4</th>\n",
       "      <td>ISIC_0024310</td>\n",
       "      <td>1.0</td>\n",
       "      <td>0.0</td>\n",
       "      <td>0.0</td>\n",
       "      <td>0.0</td>\n",
       "      <td>0.0</td>\n",
       "      <td>0.0</td>\n",
       "      <td>0.0</td>\n",
       "    </tr>\n",
       "  </tbody>\n",
       "</table>\n",
       "</div>"
      ],
      "text/plain": [
       "          image  MEL   NV  BCC  AKIEC  BKL   DF  VASC\n",
       "0  ISIC_0024306  0.0  1.0  0.0    0.0  0.0  0.0   0.0\n",
       "1  ISIC_0024307  0.0  1.0  0.0    0.0  0.0  0.0   0.0\n",
       "2  ISIC_0024308  0.0  1.0  0.0    0.0  0.0  0.0   0.0\n",
       "3  ISIC_0024309  0.0  1.0  0.0    0.0  0.0  0.0   0.0\n",
       "4  ISIC_0024310  1.0  0.0  0.0    0.0  0.0  0.0   0.0"
      ]
     },
     "execution_count": 2,
     "metadata": {},
     "output_type": "execute_result"
    }
   ],
   "source": [
    "labels_annotations = pd.read_csv('C:\\\\DATA\\\\Skin cancer-dataset\\\\GroundTruth.csv')\n",
    "labels_annotations.head()"
   ]
  },
  {
   "cell_type": "code",
   "execution_count": 3,
   "metadata": {},
   "outputs": [],
   "source": [
    "labels_annotations['labels'] = ''\n",
    "class_names = ['MEL', 'NV', 'BCC', 'AKIEC', 'BKL', 'DF', 'VASC']"
   ]
  },
  {
   "cell_type": "code",
   "execution_count": 4,
   "metadata": {},
   "outputs": [],
   "source": [
    "labels_annotations.loc[(labels_annotations['MEL'] != 0.0), 'labels'] = 0\n",
    "labels_annotations.loc[(labels_annotations['NV'] != 0.0), 'labels'] = 1\n",
    "labels_annotations.loc[(labels_annotations['BCC'] != 0.0), 'labels'] = 2\n",
    "labels_annotations.loc[(labels_annotations['AKIEC'] != 0.0), 'labels'] = 3\n",
    "labels_annotations.loc[(labels_annotations['BKL'] != 0.0), 'labels'] = 4\n",
    "labels_annotations.loc[(labels_annotations['DF'] != 0.0), 'labels'] = 5\n",
    "labels_annotations.loc[(labels_annotations['VASC'] != 0.0), 'labels'] = 6"
   ]
  },
  {
   "cell_type": "code",
   "execution_count": 5,
   "metadata": {},
   "outputs": [
    {
     "data": {
      "text/html": [
       "<div>\n",
       "<style scoped>\n",
       "    .dataframe tbody tr th:only-of-type {\n",
       "        vertical-align: middle;\n",
       "    }\n",
       "\n",
       "    .dataframe tbody tr th {\n",
       "        vertical-align: top;\n",
       "    }\n",
       "\n",
       "    .dataframe thead th {\n",
       "        text-align: right;\n",
       "    }\n",
       "</style>\n",
       "<table border=\"1\" class=\"dataframe\">\n",
       "  <thead>\n",
       "    <tr style=\"text-align: right;\">\n",
       "      <th></th>\n",
       "      <th>image</th>\n",
       "      <th>labels</th>\n",
       "    </tr>\n",
       "  </thead>\n",
       "  <tbody>\n",
       "    <tr>\n",
       "      <th>0</th>\n",
       "      <td>ISIC_0024306</td>\n",
       "      <td>1</td>\n",
       "    </tr>\n",
       "    <tr>\n",
       "      <th>1</th>\n",
       "      <td>ISIC_0024307</td>\n",
       "      <td>1</td>\n",
       "    </tr>\n",
       "    <tr>\n",
       "      <th>2</th>\n",
       "      <td>ISIC_0024308</td>\n",
       "      <td>1</td>\n",
       "    </tr>\n",
       "    <tr>\n",
       "      <th>3</th>\n",
       "      <td>ISIC_0024309</td>\n",
       "      <td>1</td>\n",
       "    </tr>\n",
       "    <tr>\n",
       "      <th>4</th>\n",
       "      <td>ISIC_0024310</td>\n",
       "      <td>0</td>\n",
       "    </tr>\n",
       "  </tbody>\n",
       "</table>\n",
       "</div>"
      ],
      "text/plain": [
       "          image labels\n",
       "0  ISIC_0024306      1\n",
       "1  ISIC_0024307      1\n",
       "2  ISIC_0024308      1\n",
       "3  ISIC_0024309      1\n",
       "4  ISIC_0024310      0"
      ]
     },
     "execution_count": 5,
     "metadata": {},
     "output_type": "execute_result"
    }
   ],
   "source": [
    "labels = labels_annotations[['image', 'labels']]\n",
    "labels.head()"
   ]
  },
  {
   "cell_type": "code",
   "execution_count": 6,
   "metadata": {},
   "outputs": [],
   "source": [
    "labels_list = list(labels.iloc[:,1])"
   ]
  },
  {
   "cell_type": "code",
   "execution_count": 7,
   "metadata": {},
   "outputs": [],
   "source": [
    "labels_list = torch.as_tensor(labels_list, dtype = torch.long)"
   ]
  },
  {
   "cell_type": "code",
   "execution_count": 8,
   "metadata": {},
   "outputs": [
    {
     "data": {
      "text/plain": [
       "tensor([1, 1, 1,  ..., 4, 1, 1])"
      ]
     },
     "execution_count": 8,
     "metadata": {},
     "output_type": "execute_result"
    }
   ],
   "source": [
    "labels_list"
   ]
  },
  {
   "cell_type": "code",
   "execution_count": 9,
   "metadata": {},
   "outputs": [],
   "source": [
    "class SkinCancerDataset(torch.utils.data.Dataset):\n",
    "    def __init__(self, targets, img_dir, mask_dir, transforms_img, transforms_mask):\n",
    "        self.targets = targets\n",
    "        self.img_dir = img_dir\n",
    "        self.mask_dir = mask_dir\n",
    "        self.images = os.listdir(os.path.join(self.img_dir))\n",
    "        self.masks = os.listdir(os.path.join(self.mask_dir))\n",
    "        self.transforms_img = transforms_img\n",
    "        self.transforms_mask = transforms_mask\n",
    "\n",
    "    def __len__(self):\n",
    "        return len(self.targets)\n",
    "\n",
    "    def __getitem__(self, idx):\n",
    "        img_path = os.path.join(self.img_dir, self.images[idx])\n",
    "        img = Image.open(img_path)\n",
    "        mask_path = os.path.join(self.mask_dir, self.masks[idx])\n",
    "        mask = Image.open(mask_path)\n",
    "        label = self.targets[idx]\n",
    "        img = self.transforms_img(img)\n",
    "        mask = self.transforms_mask(mask)\n",
    "        return img, mask, label"
   ]
  },
  {
   "cell_type": "code",
   "execution_count": 10,
   "metadata": {},
   "outputs": [],
   "source": [
    "transformations_img = T.Compose([T.Resize((224, 224)), T.ToTensor(), \n",
    "                             T.Normalize(mean = [0.485, 0.456, 0.406], std = [0.229, 0.224, 0.225])])\n",
    "transformations_mask = T.Compose([T.Resize((224, 224)), T.ToTensor()])"
   ]
  },
  {
   "cell_type": "code",
   "execution_count": 11,
   "metadata": {},
   "outputs": [],
   "source": [
    "data = SkinCancerDataset(labels_list, r'C:\\DATA\\Skin cancer-dataset\\images', r'C:\\DATA\\Skin cancer-dataset\\masks', \n",
    "                        transformations_img, transformations_mask)"
   ]
  },
  {
   "cell_type": "code",
   "execution_count": 12,
   "metadata": {},
   "outputs": [
    {
     "data": {
      "text/plain": [
       "10015"
      ]
     },
     "execution_count": 12,
     "metadata": {},
     "output_type": "execute_result"
    }
   ],
   "source": [
    "len(data)"
   ]
  },
  {
   "cell_type": "code",
   "execution_count": 13,
   "metadata": {},
   "outputs": [
    {
     "name": "stdout",
     "output_type": "stream",
     "text": [
      "7011 3004\n"
     ]
    }
   ],
   "source": [
    "val_size = 0.3\n",
    "val_inds = np.random.choice(len(data), size = int(val_size * len(data)), replace = False)\n",
    "train_data_split = torch.utils.data.Subset(data, [i for i in range(len(data)) if i not in val_inds])\n",
    "val_data_split = torch.utils.data.Subset(data, val_inds)\n",
    "print(len(train_data_split), len(val_data_split))"
   ]
  },
  {
   "cell_type": "code",
   "execution_count": 14,
   "metadata": {},
   "outputs": [],
   "source": [
    "train_dataloader = torch.utils.data.DataLoader(train_data_split, batch_size = 4, shuffle = True)\n",
    "val_dataloader = torch.utils.data.DataLoader(val_data_split, batch_size = 4, shuffle = False)"
   ]
  },
  {
   "cell_type": "code",
   "execution_count": 15,
   "metadata": {},
   "outputs": [
    {
     "data": {
      "text/plain": [
       "(tensor([[[ 1.7352,  1.7694,  1.8037,  ...,  1.7352,  1.7523,  1.7694],\n",
       "          [ 1.7865,  1.8208,  1.8208,  ...,  1.7180,  1.7352,  1.7523],\n",
       "          [ 1.8208,  1.7865,  1.7865,  ...,  1.7694,  1.7523,  1.7352],\n",
       "          ...,\n",
       "          [ 1.4612,  1.4612,  1.4269,  ...,  1.5125,  1.5468,  1.5125],\n",
       "          [ 1.4612,  1.4783,  1.4783,  ...,  1.4954,  1.5297,  1.4954],\n",
       "          [ 1.4440,  1.4440,  1.4612,  ...,  1.4612,  1.4612,  1.4783]],\n",
       " \n",
       "         [[ 0.2227,  0.2577,  0.2577,  ...,  0.2752,  0.2927,  0.3277],\n",
       "          [ 0.2402,  0.2577,  0.2927,  ...,  0.2927,  0.3277,  0.3277],\n",
       "          [ 0.2577,  0.2577,  0.2577,  ...,  0.3452,  0.3452,  0.3277],\n",
       "          ...,\n",
       "          [ 0.0651,  0.0301, -0.0049,  ...,  0.4503,  0.4503,  0.4153],\n",
       "          [ 0.0476,  0.0476,  0.0301,  ...,  0.4678,  0.4678,  0.4328],\n",
       "          [ 0.0476,  0.0476,  0.0301,  ...,  0.4153,  0.4328,  0.4678]],\n",
       " \n",
       "         [[ 0.4439,  0.4962,  0.5659,  ...,  0.4788,  0.5136,  0.5659],\n",
       "          [ 0.4788,  0.5485,  0.6008,  ...,  0.4614,  0.4962,  0.5136],\n",
       "          [ 0.4788,  0.5136,  0.5485,  ...,  0.5311,  0.5311,  0.5311],\n",
       "          ...,\n",
       "          [ 0.2871,  0.2522,  0.1999,  ...,  0.4788,  0.4962,  0.4265],\n",
       "          [ 0.3568,  0.3045,  0.3045,  ...,  0.4265,  0.4788,  0.4439],\n",
       "          [ 0.2871,  0.3219,  0.3045,  ...,  0.4265,  0.4091,  0.4265]]]),\n",
       " tensor([[[0., 0., 0.,  ..., 0., 0., 0.],\n",
       "          [0., 0., 0.,  ..., 0., 0., 0.],\n",
       "          [0., 0., 0.,  ..., 0., 0., 0.],\n",
       "          ...,\n",
       "          [0., 0., 0.,  ..., 0., 0., 0.],\n",
       "          [0., 0., 0.,  ..., 0., 0., 0.],\n",
       "          [0., 0., 0.,  ..., 0., 0., 0.]]]),\n",
       " tensor(1))"
      ]
     },
     "execution_count": 15,
     "metadata": {},
     "output_type": "execute_result"
    }
   ],
   "source": [
    "data[0]"
   ]
  },
  {
   "cell_type": "code",
   "execution_count": 16,
   "metadata": {},
   "outputs": [
    {
     "name": "stdout",
     "output_type": "stream",
     "text": [
      "torch.Size([4, 3, 224, 224]) torch.float32\n",
      "torch.Size([4, 1, 224, 224]) torch.float32\n",
      "torch.Size([4]) torch.int64\n"
     ]
    }
   ],
   "source": [
    "for imgs, msks, labs in train_dataloader:\n",
    "    print(imgs.shape, imgs.dtype)\n",
    "    print(msks.shape, msks.dtype)\n",
    "    print(labs.shape, labs.dtype)\n",
    "    break"
   ]
  },
  {
   "cell_type": "code",
   "execution_count": 17,
   "metadata": {},
   "outputs": [],
   "source": [
    "imgs, msks, labs = next(iter(train_dataloader))"
   ]
  },
  {
   "cell_type": "code",
   "execution_count": 18,
   "metadata": {},
   "outputs": [],
   "source": [
    "mean = np.array([0.485, 0.456, 0.406])\n",
    "std = np.array([0.229, 0.224, 0.225])"
   ]
  },
  {
   "cell_type": "code",
   "execution_count": 19,
   "metadata": {},
   "outputs": [],
   "source": [
    "def show_img(img_tensor, label):\n",
    "    img = img_tensor.permute(1, 2, 0).numpy()\n",
    "    img = std * img + mean\n",
    "    plt.imshow(img.clip(0, 1))\n",
    "    plt.title(class_names[label])\n",
    "    plt.show()\n",
    "    plt.pause(0.001)\n",
    "def show_msk(msk_tensor, label):\n",
    "    msk = msk_tensor.permute(1, 2, 0).numpy()\n",
    "    plt.imshow(msk.clip(0, 1))\n",
    "    plt.title(class_names[label])\n",
    "    plt.show()\n",
    "    plt.pause(0.001)"
   ]
  },
  {
   "cell_type": "code",
   "execution_count": 20,
   "metadata": {},
   "outputs": [
    {
     "data": {
      "image/png": "[encoded data removed]",
      "text/plain": [
       "<Figure size 432x288 with 1 Axes>"
      ]
     },
     "metadata": {
      "needs_background": "light"
     },
     "output_type": "display_data"
    }
   ],
   "source": [
    "show_img(imgs[0], labs[0])"
   ]
  },
  {
   "cell_type": "code",
   "execution_count": 21,
   "metadata": {},
   "outputs": [
    {
     "data": {
      "image/png": "[encoded data removed]",
      "text/plain": [
       "<Figure size 432x288 with 1 Axes>"
      ]
     },
     "metadata": {
      "needs_background": "light"
     },
     "output_type": "display_data"
    }
   ],
   "source": [
    "show_msk(msks[0], labs[0])"
   ]
  },
  {
   "cell_type": "code",
   "execution_count": 22,
   "metadata": {},
   "outputs": [],
   "source": [
    "device = torch.device('cuda' if torch.cuda.is_available() else 'cpu')"
   ]
  },
  {
   "cell_type": "code",
   "execution_count": 23,
   "metadata": {},
   "outputs": [],
   "source": [
    "from catalyst.contrib.models.cv.segmentation.unet import Unet\n",
    "from catalyst.contrib.nn.criterion.dice import DiceLoss\n",
    "from catalyst.metrics._segmentation import DiceMetric"
   ]
  },
  {
   "cell_type": "code",
   "execution_count": 24,
   "metadata": {},
   "outputs": [],
   "source": [
    "model = Unet()"
   ]
  },
  {
   "cell_type": "code",
   "execution_count": 25,
   "metadata": {},
   "outputs": [],
   "source": [
    "model = model.to(device)"
   ]
  },
  {
   "cell_type": "code",
   "execution_count": 26,
   "metadata": {},
   "outputs": [],
   "source": [
    "loss_func = DiceLoss()\n",
    "metric = DiceMetric()\n",
    "optimizer = torch.optim.Adam(model.parameters(), amsgrad = True, lr = 0.001)\n",
    "scheduler = torch.optim.lr_scheduler.StepLR(optimizer, step_size=7, gamma=0.1)"
   ]
  },
  {
   "cell_type": "code",
   "execution_count": 29,
   "metadata": {},
   "outputs": [
    {
     "name": "stdout",
     "output_type": "stream",
     "text": [
      "torch.Size([4, 1, 224, 224])\n",
      "0.9603007435798645\n"
     ]
    }
   ],
   "source": [
    "model.eval()\n",
    "for imgs, msks, _ in train_dataloader:\n",
    "    imgs = imgs.to(device)\n",
    "    msks = msks.to(device)\n",
    "    predictions = model(imgs)\n",
    "    loss = loss_func(predictions, msks)\n",
    "    print(predictions.shape)\n",
    "    print(loss.item())\n",
    "    break"
   ]
  },
  {
   "cell_type": "code",
   "execution_count": 30,
   "metadata": {},
   "outputs": [],
   "source": [
    "def train_model(model, train_loader, val_loader, loss_func, metric, optimizer, scheduler, n_epochs):\n",
    "    \n",
    "    train_loss = []\n",
    "    val_loss = []\n",
    "    acc = []\n",
    "    \n",
    "    for epoch in range(n_epochs):\n",
    "        ep_train_loss = []\n",
    "        ep_val_loss = []\n",
    "        ep_acc = []\n",
    "        \n",
    "        model.train()\n",
    "        \n",
    "        for imgs, msks, _ in train_loader:\n",
    "            optimizer.zero_grad()\n",
    "            imgs = imgs.to(device)\n",
    "            msks = msks.to(device)\n",
    "            predictions = model(imgs)\n",
    "            loss = loss_func(predictions, msks)\n",
    "            loss.backward()\n",
    "            optimizer.step()\n",
    "            ep_train_loss.append(loss.item())\n",
    "            \n",
    "        model.eval()\n",
    "        \n",
    "        with torch.no_grad():\n",
    "            for imgs, msks, _ in val_loader:\n",
    "                imgs = imgs.to(device)\n",
    "                msks = msks.to(device)\n",
    "                predictions = model(imgs)\n",
    "                loss = loss_func(predictions, msks)\n",
    "                ep_val_loss.append(loss.item())\n",
    "                dice = metric.update_key_value(predictions, msks)\n",
    "                ep_acc.append(dice['dice'].item())\n",
    "                \n",
    "        print(f'Epoch {epoch + 1} of {n_epochs}')\n",
    "        \n",
    "        scheduler.step()\n",
    "        \n",
    "        train_loss.append(np.mean(ep_train_loss))\n",
    "        val_loss.append(np.mean(ep_val_loss))\n",
    "        acc.append(np.mean(ep_acc))\n",
    "        \n",
    "        print(f\"\\t train_loss: {train_loss[-1]:.6f}\")\n",
    "        print(f\"\\t val_loss: {val_loss[-1]:.6f}\")\n",
    "        print(f\"\\t acc: {acc[-1]:.3f}\")\n",
    "        \n",
    "    return train_loss, val_loss, acc"
   ]
  },
  {
   "cell_type": "code",
   "execution_count": 31,
   "metadata": {},
   "outputs": [
    {
     "name": "stdout",
     "output_type": "stream",
     "text": [
      "Epoch 1 of 1\n",
      "\t train_loss: 0.433276\n",
      "\t val_loss: 1.043513\n",
      "\t acc: -0.044\n"
     ]
    }
   ],
   "source": [
    "train_loss, val_loss, acc = train_model(model, train_dataloader, val_dataloader, loss_func, metric, optimizer, scheduler, 1)"
   ]
  },
  {
   "cell_type": "code",
   "execution_count": null,
   "metadata": {},
   "outputs": [],
   "source": []
  }
 ],
 "metadata": {
  "kernelspec": {
   "display_name": "Python 3",
   "language": "python",
   "name": "python3"
  },
  "language_info": {
   "codemirror_mode": {
    "name": "ipython",
    "version": 3
   },
   "file_extension": ".py",
   "mimetype": "text/x-python",
   "name": "python",
   "nbconvert_exporter": "python",
   "pygments_lexer": "ipython3",
   "version": "3.8.5"
  }
 },
 "nbformat": 4,
 "nbformat_minor": 4
}
