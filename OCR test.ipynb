{
 "cells": [
  {
   "cell_type": "code",
   "execution_count": 1,
   "id": "81dc1126",
   "metadata": {},
   "outputs": [],
   "source": [
    "import os\n",
    "from tqdm import tqdm\n",
    "\n",
    "import torch\n",
    "import torchvision\n",
    "from torchvision import transforms as T\n",
    "import easyocr\n",
    "\n",
    "from PIL import Image, ImageOps\n",
    "import numpy as np\n",
    "import matplotlib.pyplot as plt"
   ]
  },
  {
   "cell_type": "code",
   "execution_count": 2,
   "id": "643cd295",
   "metadata": {},
   "outputs": [],
   "source": [
    "# Попытка реализовать свой алгоритм\n",
    "# Общий подход такой:\n",
    "# С входного изображения выделить строки текста, внутри них выделить символы(буквы)\n",
    "# И далее обученная на изображениях букв модель делает распознавание"
   ]
  },
  {
   "cell_type": "code",
   "execution_count": 3,
   "id": "7eac0f80",
   "metadata": {},
   "outputs": [],
   "source": [
    "# функция принимающая изображение и возвращающая тензор с одним каналом с контрастом по пикселям\n",
    "def get_grayscale_tensor(image_path, threshold=0.45, kernel_size=1):\n",
    "    \n",
    "    img = Image.open(image_path).convert('L')\n",
    "    img_tensor = T.ToTensor()(img)\n",
    "    img_tensor = T.CenterCrop(size=(int(img_tensor.shape[1]*0.9),\n",
    "                                                         int(img_tensor.shape[2]*0.9)))(img_tensor)\n",
    "    img_tensor = T.GaussianBlur(kernel_size=kernel_size)(img_tensor)\n",
    "    \n",
    "    img_tensor_th = torch.where(img_tensor < threshold, img_tensor,\n",
    "                                torch.ones(img_tensor.shape[1], img_tensor.shape[2]))\n",
    "    \n",
    "    return img_tensor_th"
   ]
  },
  {
   "cell_type": "code",
   "execution_count": 4,
   "id": "70a56d77",
   "metadata": {},
   "outputs": [],
   "source": [
    "# от тензора получаем словарь, где ключи - изображения(тензоры) мест на скане, \n",
    "# где содержится какая-либо графическая информация(в идеале текст, но в данном случае будет много лишнего - печать, фото), \n",
    "# а значения - изображения(тензоры) разбиения на возможные символы внутри этого места\n",
    "# подход такой: ищем промежутки между полностью белыми строками пикселей, \n",
    "# в которых содержится какая-то информация, \n",
    "# потом внутри получившихся областей делаем тоже самое только как бы по столбцам(вертикали) \n",
    "def words_from_text_lines(image_tensor):\n",
    "    \n",
    "    rows = []\n",
    "    for i in range(len(image_tensor[0])):\n",
    "        if torch.equal(image_tensor[0][i], torch.ones(image_tensor.shape[2],)):\n",
    "            rows.append(i)\n",
    "    rows_slice = [(rows[i], rows[i+1]) for i in range(len(rows)-1) if rows[i+1] - rows[i] != 1]\n",
    "    \n",
    "    words = []\n",
    "    for i in range(len(rows_slice)):\n",
    "        words.append(image_tensor[0][rows_slice[i][0]:rows_slice[i][1] + 1].unsqueeze(0))\n",
    "    \n",
    "    word_index_dict = {}\n",
    "    for word in words:\n",
    "        permute_word = word.permute(0, 2, 1)\n",
    "        cols = []\n",
    "        for i in range(len(permute_word[0])):\n",
    "            if torch.equal(permute_word[0][i], torch.ones(permute_word.shape[2],)):\n",
    "                cols.append(i)\n",
    "        word_index_dict[word] = cols\n",
    "        \n",
    "    word_slice_dict = {}\n",
    "    for key, value in word_index_dict.items():\n",
    "        word_slice_dict[key] = [(value[i], value[i+1]) for i in range(len(value)-1) if value[i+1] - value[i] != 1]\n",
    "        \n",
    "    word_char_dict = {}\n",
    "    for key in word_slice_dict.keys():\n",
    "        permute_key = key.permute(0, 2, 1)\n",
    "        chars = []\n",
    "        for i in range(len(word_slice_dict[key])):\n",
    "            char = permute_key[0][word_slice_dict[key][i][0]:word_slice_dict[key][i][1] + 1].unsqueeze(0).permute(0, 2, 1)\n",
    "            chars.append(char)\n",
    "        word_char_dict[key] = chars\n",
    "        \n",
    "    return word_char_dict"
   ]
  },
  {
   "cell_type": "code",
   "execution_count": 5,
   "id": "5ccae71d",
   "metadata": {},
   "outputs": [],
   "source": [
    "# в результате предыдущей функции мы получаем кусок изображения с фотографией, который нужно разбить еще раз\n",
    "def get_final_image_samples(word_char_dict):\n",
    "    \n",
    "    indexes = []\n",
    "    for i in range(len(word_char_dict.keys())):\n",
    "        indexes.append(list(word_char_dict.keys())[i].shape[1])\n",
    "    max_shape_index = indexes.index(max(indexes))\n",
    "    \n",
    "    word_char_dict_2 = {}\n",
    "    for value in list(word_char_dict.values())[max_shape_index]:\n",
    "        temp_dict = words_from_text_lines(value)\n",
    "        word_char_dict_2.update(temp_dict)\n",
    "        \n",
    "    del word_char_dict[list(word_char_dict.keys())[max_shape_index]]\n",
    "    \n",
    "    word_char_dict.update(word_char_dict_2)\n",
    "    \n",
    "    return word_char_dict"
   ]
  },
  {
   "cell_type": "code",
   "execution_count": 6,
   "id": "4dcfd055",
   "metadata": {},
   "outputs": [],
   "source": [
    "device = torch.device('cuda' if torch.cuda.is_available() else 'cpu')\n",
    "torch.cuda.empty_cache()"
   ]
  },
  {
   "cell_type": "code",
   "execution_count": 7,
   "id": "c414635e",
   "metadata": {},
   "outputs": [],
   "source": [
    "def show_input(image, title=''):\n",
    "    image = image.permute(1, 2, 0).numpy()\n",
    "    plt.figure(figsize=(18,15))\n",
    "    plt.imshow(image.clip(0, 1))\n",
    "    plt.title(title)\n",
    "    plt.show()\n",
    "    plt.pause(0.001)"
   ]
  },
  {
   "cell_type": "code",
   "execution_count": 8,
   "id": "a2fd8b40",
   "metadata": {},
   "outputs": [],
   "source": [
    "# хэлпер функция для даталоадера, RGBA изображения с альфа каналом преобразуем в 1 канал\n",
    "def custom_loader(path):\n",
    "    with open(path, 'rb') as f:\n",
    "        img = Image.open(f)\n",
    "        img.load()\n",
    "        back = Image.new('RGB', img.size, (255, 255, 255))\n",
    "        back.paste(img, mask=img.split()[3])\n",
    "        img_new = ImageOps.invert(back.convert('L'))\n",
    "        return img_new"
   ]
  },
  {
   "cell_type": "code",
   "execution_count": 9,
   "id": "d31ca3d5",
   "metadata": {},
   "outputs": [],
   "source": [
    "# https://github.com/GregVial/CoMNIST\n",
    "data_path = os.getcwd() + '\\\\Cyrillic'"
   ]
  },
  {
   "cell_type": "code",
   "execution_count": 10,
   "id": "d28566f1",
   "metadata": {},
   "outputs": [],
   "source": [
    "symbol_labels = []\n",
    "for _, subdirs, files in os.walk(data_path):\n",
    "    for subdir in subdirs:\n",
    "        symbol_labels.append(subdir)"
   ]
  },
  {
   "cell_type": "code",
   "execution_count": 11,
   "id": "77148076",
   "metadata": {},
   "outputs": [],
   "source": [
    "transformers = T.Compose([T.ToTensor(),\n",
    "                          T.Resize((28, 28))])\n",
    "dataset = torchvision.datasets.ImageFolder(root=data_path, transform=transformers, loader=custom_loader)\n",
    "dataloader = torch.utils.data.DataLoader(dataset, batch_size=8, shuffle=True)"
   ]
  },
  {
   "cell_type": "code",
   "execution_count": 12,
   "id": "7b4f129e",
   "metadata": {},
   "outputs": [],
   "source": [
    "images, labels = next(iter(dataloader))"
   ]
  },
  {
   "cell_type": "code",
   "execution_count": 13,
   "id": "8253d395",
   "metadata": {},
   "outputs": [
    {
     "data": {
      "image/png": "[encoded data removed]",
      "text/plain": [
       "<Figure size 1800x1500 with 1 Axes>"
      ]
     },
     "metadata": {},
     "output_type": "display_data"
    }
   ],
   "source": [
    "show_input(torchvision.utils.make_grid(images, nrow=4), [symbol_labels[i] for i in labels])"
   ]
  },
  {
   "cell_type": "code",
   "execution_count": 14,
   "id": "6cf5dec7",
   "metadata": {},
   "outputs": [],
   "source": [
    "# изначальной идеей была CNN с переносом обучения, но результат оказался еще хуже, чем у простейшей FNN\n",
    "#model = torchvision.models.resnet18(weights='ResNet18_Weights.DEFAULT')\n",
    "#model.conv1 = torch.nn.Conv2d(1, 64, kernel_size=(7, 7), stride=(2, 2), padding=(3, 3), bias=False)\n",
    "#model.fc = torch.nn.Linear(model.fc.in_features, 34)\n",
    "#model = model.to(device)"
   ]
  },
  {
   "cell_type": "code",
   "execution_count": 15,
   "id": "d4ead697",
   "metadata": {},
   "outputs": [],
   "source": [
    "# простейший вариант FNN\n",
    "class FNN(torch.nn.Module):\n",
    "    def __init__(self):\n",
    "        super(FNN, self).__init__()\n",
    "        self.l1 = torch.nn.Linear(28*28, 500)\n",
    "        self.relu = torch.nn.ReLU()\n",
    "        self.l2 = torch.nn.Linear(500, 34)\n",
    "    \n",
    "    def forward(self, x):\n",
    "        out = self.l1(x)\n",
    "        out = self.relu(out)\n",
    "        out = self.l2(out)\n",
    "        return out"
   ]
  },
  {
   "cell_type": "code",
   "execution_count": 16,
   "id": "7b316af4",
   "metadata": {},
   "outputs": [],
   "source": [
    "model = FNN().to(device)"
   ]
  },
  {
   "cell_type": "code",
   "execution_count": 17,
   "id": "994ad3ee",
   "metadata": {},
   "outputs": [],
   "source": [
    "CEloss = torch.nn.CrossEntropyLoss()\n",
    "optimizer = torch.optim.Adam(model.parameters(), amsgrad=True, lr=0.001)"
   ]
  },
  {
   "cell_type": "code",
   "execution_count": 18,
   "id": "79ed2e73",
   "metadata": {},
   "outputs": [],
   "source": [
    "#def train_model_cnn(model, loader, loss_fn, optimizer, n_epochs):\n",
    "#    \n",
    "#    train_loss = []\n",
    "#    \n",
    "#    for epoch in range(n_epochs):\n",
    "#        \n",
    "#        ep_train_loss = []\n",
    "#        \n",
    "#        model.train()\n",
    "#        \n",
    "#        for image, label in tqdm(loader):\n",
    "#            optimizer.zero_grad()\n",
    "#            image = image.to(device)\n",
    "#            label = label.to(device)\n",
    "#            predictions = model(image)\n",
    "#            loss = loss_fn(predictions, label)\n",
    "#            loss.backward()\n",
    "#            optimizer.step()\n",
    "#           ep_train_loss.append(loss.item())\n",
    "#                \n",
    "#        print(f'Epoch {epoch + 1} of {n_epochs}')\n",
    "#                \n",
    "#        train_loss.append(np.mean(ep_train_loss))\n",
    "#        \n",
    "#        print(f\"\\t training loss: {train_loss[-1]:.6f}\")\n",
    "#        \n",
    "#    return train_loss"
   ]
  },
  {
   "cell_type": "code",
   "execution_count": 19,
   "id": "50ae45b6",
   "metadata": {},
   "outputs": [],
   "source": [
    "def train_model_fnn(model, loader, loss_fn, optimizer, n_epochs):\n",
    "    \n",
    "    train_loss = []\n",
    "    \n",
    "    for epoch in range(n_epochs):\n",
    "        \n",
    "        ep_train_loss = []\n",
    "        \n",
    "        model.train()\n",
    "        \n",
    "        for image, label in tqdm(loader):\n",
    "            optimizer.zero_grad()\n",
    "            image = image.reshape(-1, 28*28).to(device)\n",
    "            label = label.to(device)\n",
    "            predictions = model(image)\n",
    "            loss = loss_fn(predictions, label)\n",
    "            loss.backward()\n",
    "            optimizer.step()\n",
    "            ep_train_loss.append(loss.item())\n",
    "                \n",
    "        print(f'Epoch {epoch + 1} of {n_epochs}')\n",
    "                \n",
    "        train_loss.append(np.mean(ep_train_loss))\n",
    "        \n",
    "        print(f\"\\t training loss: {train_loss[-1]:.6f}\")\n",
    "        \n",
    "    return train_loss"
   ]
  },
  {
   "cell_type": "code",
   "execution_count": 20,
   "id": "721ce01b",
   "metadata": {},
   "outputs": [
    {
     "name": "stderr",
     "output_type": "stream",
     "text": [
      "100%|██████████████████████████████████████████████████████████████████████████████| 1920/1920 [00:30<00:00, 62.88it/s]\n"
     ]
    },
    {
     "name": "stdout",
     "output_type": "stream",
     "text": [
      "Epoch 1 of 4\n",
      "\t training loss: 1.671998\n"
     ]
    },
    {
     "name": "stderr",
     "output_type": "stream",
     "text": [
      "100%|██████████████████████████████████████████████████████████████████████████████| 1920/1920 [00:28<00:00, 67.68it/s]\n"
     ]
    },
    {
     "name": "stdout",
     "output_type": "stream",
     "text": [
      "Epoch 2 of 4\n",
      "\t training loss: 0.754104\n"
     ]
    },
    {
     "name": "stderr",
     "output_type": "stream",
     "text": [
      "100%|██████████████████████████████████████████████████████████████████████████████| 1920/1920 [00:28<00:00, 68.16it/s]\n"
     ]
    },
    {
     "name": "stdout",
     "output_type": "stream",
     "text": [
      "Epoch 3 of 4\n",
      "\t training loss: 0.401288\n"
     ]
    },
    {
     "name": "stderr",
     "output_type": "stream",
     "text": [
      "100%|██████████████████████████████████████████████████████████████████████████████| 1920/1920 [00:28<00:00, 67.55it/s]"
     ]
    },
    {
     "name": "stdout",
     "output_type": "stream",
     "text": [
      "Epoch 4 of 4\n",
      "\t training loss: 0.219617\n",
      "CPU times: total: 11min 24s\n",
      "Wall time: 1min 55s\n"
     ]
    },
    {
     "name": "stderr",
     "output_type": "stream",
     "text": [
      "\n"
     ]
    }
   ],
   "source": [
    "%%time\n",
    "trains_loss_fnn = train_model_fnn(model, dataloader, CEloss, optimizer, 4)"
   ]
  },
  {
   "cell_type": "code",
   "execution_count": 21,
   "id": "019f404c",
   "metadata": {},
   "outputs": [],
   "source": [
    "img_path = r'DataForOCR\\0.jpeg'"
   ]
  },
  {
   "cell_type": "code",
   "execution_count": 22,
   "id": "c7d10756",
   "metadata": {},
   "outputs": [],
   "source": [
    "image_tensor = get_grayscale_tensor(img_path)"
   ]
  },
  {
   "cell_type": "code",
   "execution_count": 23,
   "id": "ce719647",
   "metadata": {},
   "outputs": [],
   "source": [
    "word_char_dict = words_from_text_lines(image_tensor)"
   ]
  },
  {
   "cell_type": "code",
   "execution_count": 24,
   "id": "5146c8bb",
   "metadata": {},
   "outputs": [],
   "source": [
    "word_char_dict_final = get_final_image_samples(word_char_dict)"
   ]
  },
  {
   "cell_type": "code",
   "execution_count": 25,
   "id": "62a5c102",
   "metadata": {},
   "outputs": [
    {
     "name": "stdout",
     "output_type": "stream",
     "text": [
      "ТУЭЬЬЬКСЬЬЗСЬЭСЗЭСССЬЬ\n",
      "СПДСПОДТЩОЬВИЭОЖЫМОФДЖДЖМЩЕМ\n",
      "ОВДПРЕСНЕНСКОТОДШОЩДЬ\n",
      "ЫЮДШОРОДОШМОСЖВЫ\n",
      "ЬЮСХЦСШОЧЫЭЭДЬЗЗДЕ\n",
      "IЭIIIIIIIIIУIIЩЬЬЬIIУ\n",
      "ЩЩШЩШШЭЬАЬШЮМФТТТТУТТТТЖЖЮ\n",
      "ТЫЩП\n",
      "ЖЖЬЖЬ\n",
      "ЭЗЖМШЩ\n",
      "ЖГХ\n",
      "ЬЬЖ\n",
      "ДОНЮБД\n",
      "ДЖОМ\n",
      "ССЗЩСОБСЗЭ\n",
      "РОДСКРЩНС\n",
      "ТДТЫБЮЫИОР\n"
     ]
    }
   ],
   "source": [
    "# Результат конечно оставляет желать лучшего, но все же некоторые паттерны видны\n",
    "# МОСКВЫ - МОСЖВЫ, ПРЕСНЕНСКОГО - ПРЕСНЕНСКОТО, ДЖОН - ДЖОМ\n",
    "# ТРАМП - ТЫЩП, ДОНАЛЬД - ДОНЮБД\n",
    "# Как будет видно ниже одной из причин является конечно наивный подход разграничивания пикселей, \n",
    "# который сильно зависит от качества входного изображения, некоторые буквы имеют общий пограничный пиксель, \n",
    "# либо артефакты, \n",
    "# а также параметры threshold и kernel в функции предобработки, которые по-разному отрабатывают на разных примерах\n",
    "# Также возможно для специфики конкретно данной задачи тренировочный набор стоило бы избавить от прописных букв\n",
    "model.eval()\n",
    "with torch.no_grad():\n",
    "    for key in word_char_dict_final.keys():\n",
    "        word = []\n",
    "        for value in word_char_dict_final[key]:\n",
    "            test_tensor = T.functional.invert(value)\n",
    "            test_tensor = T.Resize((20, 20))(test_tensor)\n",
    "            test_tensor = T.Pad(4)(test_tensor)\n",
    "            prediction = model(test_tensor.unsqueeze(0).reshape(-1, 28*28).to(device))\n",
    "            word.append(symbol_labels[prediction[0].argmax().item()])\n",
    "        if len(word) > 2:\n",
    "            print(''.join(word))"
   ]
  },
  {
   "cell_type": "code",
   "execution_count": 30,
   "id": "58472411",
   "metadata": {},
   "outputs": [],
   "source": [
    "test1 = T.functional.invert(list(word_char_dict_final.values())[10][0])\n",
    "test1 = T.Resize((20, 20))(test1)\n",
    "test1 = T.Pad(4)(test1)\n",
    "\n",
    "test2 = T.functional.invert(list(word_char_dict_final.values())[10][1])\n",
    "test2 = T.Resize((20, 20))(test2)\n",
    "test2 = T.Pad(4)(test2)\n",
    "\n",
    "test3 = T.functional.invert(list(word_char_dict_final.values())[10][2])\n",
    "test3 = T.Resize((20, 20))(test3)\n",
    "test3 = T.Pad(4)(test3)\n",
    "\n",
    "test4 = T.functional.invert(list(word_char_dict_final.values())[10][3])\n",
    "test4 = T.Resize((20, 20))(test4)\n",
    "test4 = T.Pad(4)(test4)"
   ]
  },
  {
   "cell_type": "code",
   "execution_count": 31,
   "id": "8eb5f16c",
   "metadata": {},
   "outputs": [
    {
     "data": {
      "image/png": "[encoded data removed]",
      "text/plain": [
       "<Figure size 1800x1500 with 1 Axes>"
      ]
     },
     "metadata": {},
     "output_type": "display_data"
    }
   ],
   "source": [
    "show_input(torchvision.utils.make_grid([test1, test2, test3, test4], nrow=4))"
   ]
  },
  {
   "cell_type": "code",
   "execution_count": 32,
   "id": "a59452ca",
   "metadata": {},
   "outputs": [],
   "source": [
    "img_test = T.functional.to_pil_image(image_tensor)"
   ]
  },
  {
   "cell_type": "code",
   "execution_count": 33,
   "id": "c75e205f",
   "metadata": {},
   "outputs": [
    {
     "data": {
      "image/png": "[encoded data removed]",
      "text/plain": [
       "<PIL.Image.Image image mode=L size=402x561>"
      ]
     },
     "execution_count": 33,
     "metadata": {},
     "output_type": "execute_result"
    }
   ],
   "source": [
    "img_test"
   ]
  },
  {
   "cell_type": "code",
   "execution_count": 34,
   "id": "2a2061b3",
   "metadata": {},
   "outputs": [],
   "source": [
    "# EasyOCR"
   ]
  },
  {
   "cell_type": "code",
   "execution_count": 35,
   "id": "e0ba77fb",
   "metadata": {},
   "outputs": [
    {
     "data": {
      "text/plain": [
       "[([[101, 31], [225, 31], [225, 45], [101, 45]],\n",
       "  'С с и и с к ; я',\n",
       "  0.4927065279142246),\n",
       " ([[271, 31], [313, 31], [313, 47], [271, 47]], '4 Е ₽', 0.7425159118558317),\n",
       " ([[109, 59], [365, 59], [365, 78], [109, 78]],\n",
       "  'ПАСПОРТНО-визовым ОтДЕЛЕНИЕМ',\n",
       "  0.4648561981603755),\n",
       " ([[133, 83], [163, 83], [163, 99], [133, 99]], 'овд', 0.9807525468379047),\n",
       " ([[168, 82], [280, 82], [280, 96], [168, 96]],\n",
       "  'ПРЕСНЕНСКОГО',\n",
       "  0.828364038574049),\n",
       " ([[287, 81], [343, 81], [343, 97], [287, 97]], 'РАЙОНА', 0.9998547266671952),\n",
       " ([[139, 105], [335, 105], [335, 121], [139, 121]],\n",
       "  'УВД ЦАО ГОРОДА МОСКВЫ',\n",
       "  0.6846751131319015),\n",
       " ([[87, 129], [179, 129], [179, 145], [87, 145]],\n",
       "  '09.11.2016',\n",
       "  0.7248729966936491),\n",
       " ([[192, 133], [237, 133], [237, 145], [192, 145]],\n",
       "  'аарачагыы',\n",
       "  0.06257738261801038),\n",
       " ([[269, 127], [335, 127], [335, 143], [269, 143]],\n",
       "  '772-112',\n",
       "  0.7325917297012998),\n",
       " ([[399, 169], [415, 169], [415, 201], [399, 201]], '&', 0.4180026239312298),\n",
       " ([[278, 196], [363, 196], [363, 232], [278, 232]], '~/', 0.15014042594145066),\n",
       " ([[257, 341], [307, 341], [307, 355], [257, 355]],\n",
       "  'ТРАМП',\n",
       "  0.999032065059081),\n",
       " ([[249, 383], [317, 383], [317, 399], [249, 399]],\n",
       "  'ДОНАЛЬД',\n",
       "  0.9739860026061092),\n",
       " ([[267, 407], [307, 407], [307, 421], [267, 421]],\n",
       "  'Джон',\n",
       "  0.5766345262527466),\n",
       " ([[173, 433], [207, 433], [207, 447], [173, 447]],\n",
       "  'Муж',\n",
       "  0.24596997968190148),\n",
       " ([[261, 429], [355, 429], [355, 447], [261, 447]],\n",
       "  '14 . 06 . 1946',\n",
       "  0.6341473160933553),\n",
       " ([[237, 453], [267, 453], [267, 467], [237, 467]], 'ГОР', 0.9897126781002672),\n",
       " ([[281, 453], [331, 453], [331, 467], [281, 467]],\n",
       "  'КУИНС',\n",
       "  0.729420104407593),\n",
       " ([[223, 477], [263, 477], [263, 491], [223, 491]],\n",
       "  'ШТАТ',\n",
       "  0.9710295796394348),\n",
       " ([[269, 475], [345, 475], [345, 491], [269, 491]],\n",
       "  'НЬЮ-ЙОРК',\n",
       "  0.777982461596562),\n",
       " ([[397, 457], [413, 457], [413, 517], [397, 517]], '8', 0.5404929926319255),\n",
       " ([[269, 499], [299, 499], [299, 513], [269, 513]], 'США', 0.913227236901218)]"
      ]
     },
     "execution_count": 35,
     "metadata": {},
     "output_type": "execute_result"
    }
   ],
   "source": [
    "reader = easyocr.Reader(['ru'], gpu=True)\n",
    "result = reader.readtext(img_path)\n",
    "result"
   ]
  },
  {
   "cell_type": "code",
   "execution_count": null,
   "id": "f5d138a4",
   "metadata": {},
   "outputs": [],
   "source": []
  }
 ],
 "metadata": {
  "kernelspec": {
   "display_name": "Python 3 (ipykernel)",
   "language": "python",
   "name": "python3"
  },
  "language_info": {
   "codemirror_mode": {
    "name": "ipython",
    "version": 3
   },
   "file_extension": ".py",
   "mimetype": "text/x-python",
   "name": "python",
   "nbconvert_exporter": "python",
   "pygments_lexer": "ipython3",
   "version": "3.10.6"
  }
 },
 "nbformat": 4,
 "nbformat_minor": 5
}
