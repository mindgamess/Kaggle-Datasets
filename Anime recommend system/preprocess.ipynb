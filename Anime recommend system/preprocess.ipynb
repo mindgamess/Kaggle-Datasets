{
 "cells": [
  {
   "cell_type": "code",
   "execution_count": 47,
   "id": "8f58710b",
   "metadata": {},
   "outputs": [],
   "source": [
    "import pandas as pd\n",
    "import numpy as np\n",
    "import seaborn as sns\n",
    "\n",
    "import nltk\n",
    "from nltk.stem.porter import PorterStemmer\n",
    "from sklearn.feature_extraction.text import CountVectorizer\n",
    "from sklearn.metrics.pairwise import cosine_similarity\n",
    "\n",
    "import pickle\n",
    "\n",
    "import warnings\n",
    "warnings.filterwarnings('ignore')\n",
    "pd.set_option('display.max_columns', None)"
   ]
  },
  {
   "cell_type": "code",
   "execution_count": 2,
   "id": "c4c5412f",
   "metadata": {},
   "outputs": [],
   "source": [
    "num_dict = {'Unknown': '', '0': 'zero', '1': 'one', '2': 'two', '3': 'three', '4': 'four', '5': 'five', '6': 'six',\n",
    "            '7': 'seven', '8': 'eight', '9': 'nine'}\n",
    "def nums_to_sym(x: str) -> list:\n",
    "    res = []\n",
    "    for sym in x:\n",
    "        if sym.isdigit():\n",
    "            elem = num_dict[sym]\n",
    "            res.append(elem)\n",
    "        else:\n",
    "            res.append(sym)\n",
    "    return ''.join(res).split()"
   ]
  },
  {
   "cell_type": "code",
   "execution_count": 3,
   "id": "210a8cf3",
   "metadata": {},
   "outputs": [],
   "source": [
    "def join_corpnames(x: str) -> list:\n",
    "    orig = x.split(', ')\n",
    "    res = []\n",
    "    for name in orig:\n",
    "        elem = name.replace(' ', '')\n",
    "        res.append(elem)\n",
    "    return res"
   ]
  },
  {
   "cell_type": "code",
   "execution_count": 4,
   "id": "a94dd42c",
   "metadata": {},
   "outputs": [],
   "source": [
    "df_1 = pd.read_csv('anime.csv', dtype='str', keep_default_na=False)\n",
    "df_2 = pd.read_csv('anime_with_synopsis.csv', dtype='str', keep_default_na=False)"
   ]
  },
  {
   "cell_type": "code",
   "execution_count": 5,
   "id": "08a3a34b",
   "metadata": {},
   "outputs": [],
   "source": [
    "df = df_1.merge(df_2, how='left', on=['MAL_ID', 'Name', 'Score', 'Genres'])"
   ]
  },
  {
   "cell_type": "code",
   "execution_count": 6,
   "id": "a2c58467",
   "metadata": {},
   "outputs": [],
   "source": [
    "df = df[['Name', 'Genres', 'English name', 'Type', 'Premiered', 'Producers',\n",
    "         'Licensors', 'Studios', 'Source', 'Rating', 'sypnopsis']]"
   ]
  },
  {
   "cell_type": "code",
   "execution_count": 7,
   "id": "0802fea6",
   "metadata": {},
   "outputs": [],
   "source": [
    "df['Title'] = df['Name'].apply(lambda x: x.split())\n",
    "df['Genres'] = df['Genres'].apply(lambda x: x.split(', '))\n",
    "df['English name'] = df['English name'].apply(lambda x: x.split())"
   ]
  },
  {
   "cell_type": "code",
   "execution_count": 8,
   "id": "afb3fffc",
   "metadata": {},
   "outputs": [
    {
     "data": {
      "text/plain": [
       "<AxesSubplot:xlabel='Type', ylabel='count'>"
      ]
     },
     "execution_count": 8,
     "metadata": {},
     "output_type": "execute_result"
    },
    {
     "data": {
      "image/png": "[encoded data removed]",
      "text/plain": [
       "<Figure size 640x480 with 1 Axes>"
      ]
     },
     "metadata": {},
     "output_type": "display_data"
    }
   ],
   "source": [
    "sns.countplot(x=df['Type'])"
   ]
  },
  {
   "cell_type": "code",
   "execution_count": 9,
   "id": "2f2b9e0c",
   "metadata": {},
   "outputs": [],
   "source": [
    "df['Type'] = df['Type'].replace({'Unknown': ''}).apply(lambda x: x.split())"
   ]
  },
  {
   "cell_type": "code",
   "execution_count": 10,
   "id": "559bead7",
   "metadata": {},
   "outputs": [],
   "source": [
    "df['Premiered'] = df['Premiered'].apply(lambda x: x.split()[1][-2:] if len(x.split()) > 1 else x)\\\n",
    "                                 .replace({'Unknown': ''}).apply(nums_to_sym)"
   ]
  },
  {
   "cell_type": "code",
   "execution_count": 11,
   "id": "7666c11c",
   "metadata": {},
   "outputs": [],
   "source": [
    "df['Producers'] = df['Producers'].apply(join_corpnames)\n",
    "df['Licensors'] = df['Licensors'].apply(join_corpnames)\n",
    "df['Studios'] = df['Studios'].apply(join_corpnames)"
   ]
  },
  {
   "cell_type": "code",
   "execution_count": 12,
   "id": "20bec5e4",
   "metadata": {},
   "outputs": [],
   "source": [
    "df['Source'] = df['Source'].replace({'Unknown': ''}).apply(join_corpnames)"
   ]
  },
  {
   "cell_type": "code",
   "execution_count": 13,
   "id": "f5fa0726",
   "metadata": {},
   "outputs": [],
   "source": [
    "df['Rating'] = df['Rating'].replace({'R - 17+ (violence & profanity)': 'violenceprofanity',\n",
    "                                     'PG-13 - Teens 13 or older': 'teens', 'PG - Children': 'children',\n",
    "                                     'R+ - Mild Nudity': 'mildnudity', 'G - All Ages': 'allages',\n",
    "                                     'Rx - Hentai': 'hentai', 'Unknown': ''}).apply(lambda x: x.split())"
   ]
  },
  {
   "cell_type": "code",
   "execution_count": 14,
   "id": "70656d71",
   "metadata": {},
   "outputs": [],
   "source": [
    "df['sypnopsis'].fillna('', inplace=True)\n",
    "df['sypnopsis'] = df['sypnopsis'].apply(lambda x: x.split())"
   ]
  },
  {
   "cell_type": "code",
   "execution_count": 15,
   "id": "720cbb75",
   "metadata": {},
   "outputs": [],
   "source": [
    "df['All_tags'] = df['Title'] + df['Genres'] + df['English name'] + df['Type'] + df['Premiered'] + df['Producers'] + \\\n",
    "                 df['Licensors'] + df['Studios'] + df['Source'] + df['Rating'] + df['sypnopsis']"
   ]
  },
  {
   "cell_type": "code",
   "execution_count": 16,
   "id": "4de81bec",
   "metadata": {},
   "outputs": [],
   "source": [
    "stemmer = PorterStemmer()"
   ]
  },
  {
   "cell_type": "code",
   "execution_count": 17,
   "id": "0e2448ba",
   "metadata": {},
   "outputs": [],
   "source": [
    "df['All_tags'] = df['All_tags'].apply(lambda x: [stemmer.stem(el) for el in x])\n",
    "df['All_tags'] = df['All_tags'].apply(lambda x: ' '.join(x))"
   ]
  },
  {
   "cell_type": "code",
   "execution_count": 19,
   "id": "c3c6eabc",
   "metadata": {},
   "outputs": [],
   "source": [
    "cv = CountVectorizer(stop_words='english')\n",
    "data = cv.fit_transform(df['All_tags']).toarray()\n",
    "similarity = cosine_similarity(data)"
   ]
  },
  {
   "cell_type": "code",
   "execution_count": 44,
   "id": "05475117",
   "metadata": {},
   "outputs": [],
   "source": [
    "def movie_recommend(movie):\n",
    "    index = df[df['Name'] == movie].index[0]\n",
    "    distances = sorted(list(enumerate(similarity[index])), reverse=True, key=lambda x: x[1])\n",
    "    for i in distances[1:8]:\n",
    "        print(\"{}\".format(df.iloc[i[0]]['Name']))"
   ]
  },
  {
   "cell_type": "code",
   "execution_count": 46,
   "id": "7cda3e2d",
   "metadata": {},
   "outputs": [
    {
     "name": "stdout",
     "output_type": "stream",
     "text": [
      "Maou Gakuin no Futekigousha: Shijou Saikyou no Maou no Shiso, Tensei shite Shison-tachi no Gakkou e\n",
      "Kimetsu no Yaiba Movie: Mugen Ressha-hen\n",
      "Omamori Himari\n",
      "Shinmai Maou no Testament\n",
      "Yao Shen Ji\n",
      "Kouchuu Ouja Mushiking: Mori no Tami no Densetsu\n",
      "Chichi to Ko\n"
     ]
    }
   ],
   "source": [
    "movie_recommend('Kimetsu no Yaiba')"
   ]
  },
  {
   "cell_type": "code",
   "execution_count": 48,
   "id": "8b4abfff",
   "metadata": {},
   "outputs": [],
   "source": [
    "pickle.dump(df, open('anime_recs.pkl', 'wb'))\n",
    "pickle.dump(similarity, open('similarity.pkl', 'wb'))"
   ]
  },
  {
   "cell_type": "code",
   "execution_count": null,
   "id": "f1eace9c",
   "metadata": {},
   "outputs": [],
   "source": []
  }
 ],
 "metadata": {
  "kernelspec": {
   "display_name": "Python 3 (ipykernel)",
   "language": "python",
   "name": "python3"
  },
  "language_info": {
   "codemirror_mode": {
    "name": "ipython",
    "version": 3
   },
   "file_extension": ".py",
   "mimetype": "text/x-python",
   "name": "python",
   "nbconvert_exporter": "python",
   "pygments_lexer": "ipython3",
   "version": "3.10.6"
  }
 },
 "nbformat": 4,
 "nbformat_minor": 5
}
